{
 "cells": [
  {
   "cell_type": "code",
   "execution_count": 129,
   "metadata": {},
   "outputs": [],
   "source": [
    "from pynq import Overlay\n",
    "from pynq import MMIO\n",
    "import pynq.lib.dma\n",
    "from pynq import allocate\n",
    "import numpy as np\n",
    "import struct\n",
    "from time import time\n",
    "\n",
    "from matplotlib import pyplot as plt"
   ]
  },
  {
   "cell_type": "code",
   "execution_count": 130,
   "metadata": {},
   "outputs": [],
   "source": [
    "from pynq import Overlay\n",
    "\n",
    "overlay = Overlay('/home/xilinx/pynq/overlays/User_overlay/PYNQ_CNN.bit')"
   ]
  },
  {
   "cell_type": "code",
   "execution_count": 131,
   "metadata": {},
   "outputs": [
    {
     "data": {
      "text/plain": [
       "True"
      ]
     },
     "execution_count": 131,
     "metadata": {},
     "output_type": "execute_result"
    }
   ],
   "source": [
    "overlay.is_loaded()"
   ]
  },
  {
   "cell_type": "code",
   "execution_count": 132,
   "metadata": {},
   "outputs": [
    {
     "name": "stdout",
     "output_type": "stream",
     "text": [
      "CPU:   650.000000MHz\n",
      "FCLK0: 100.000000MHz\n",
      "FCLK1: 100.000000MHz\n",
      "FCLK2: 100.000000MHz\n",
      "FCLK3: 100.000000MHz\n"
     ]
    }
   ],
   "source": [
    "from pynq import Clocks\n",
    "\n",
    "print(f'CPU:   {Clocks.cpu_mhz:.6f}MHz')\n",
    "print(f'FCLK0: {Clocks.fclk0_mhz:.6f}MHz')\n",
    "print(f'FCLK1: {Clocks.fclk1_mhz:.6f}MHz')\n",
    "print(f'FCLK2: {Clocks.fclk2_mhz:.6f}MHz')\n",
    "print(f'FCLK3: {Clocks.fclk3_mhz:.6f}MHz')"
   ]
  },
  {
   "cell_type": "code",
   "execution_count": 134,
   "metadata": {},
   "outputs": [],
   "source": [
    "ip = overlay.myproject_axi_0"
   ]
  },
  {
   "cell_type": "code",
   "execution_count": 135,
   "metadata": {},
   "outputs": [
    {
     "data": {
      "text/plain": [
       "RegisterMap {\n",
       "  Memory_in_V = Register(value=0),\n",
       "  Memory_out_V = Register(value=34603092)\n",
       "}"
      ]
     },
     "execution_count": 135,
     "metadata": {},
     "output_type": "execute_result"
    }
   ],
   "source": [
    "ip.register_map"
   ]
  },
  {
   "cell_type": "code",
   "execution_count": 136,
   "metadata": {},
   "outputs": [
    {
     "name": "stdout",
     "output_type": "stream",
     "text": [
      "Memory_in_V.address: 2048\n",
      "Memory_out_V.address: 4096\n"
     ]
    }
   ],
   "source": [
    "print(\"Memory_in_V.address: \" + str(ip.register_map.Memory_in_V.address))\n",
    "print(\"Memory_out_V.address: \" + str(ip.register_map.Memory_out_V.address))"
   ]
  },
  {
   "cell_type": "code",
   "execution_count": 137,
   "metadata": {},
   "outputs": [],
   "source": [
    "in_mmio = MMIO(ip.mmio.base_addr + ip.register_map.Memory_in_V.address, 392 * 4)\n",
    "ou_mmio = MMIO(ip.mmio.base_addr + ip.register_map.Memory_out_V.address, 5 * 4)"
   ]
  },
  {
   "cell_type": "code",
   "execution_count": 202,
   "metadata": {},
   "outputs": [],
   "source": [
    "X = np.load('./X_test.npy').astype(np.float32)\n",
    "X = X[:5]"
   ]
  },
  {
   "cell_type": "code",
   "execution_count": 198,
   "metadata": {},
   "outputs": [],
   "source": [
    "def encode_matrix(matrix):\n",
    "    X_ca = np.reshape(matrix*2**10, (392,2))\n",
    "    X_ca = X_ca.astype(np.uint16)\n",
    "    X_enc = []\n",
    "    for i in range(X_ca.shape[0]):\n",
    "        X_enc.append(X_ca[i][0] + X_ca[i][1]*2**16)\n",
    "    X_enc = np.array(X_enc, dtype=np.uint32)\n",
    "    \n",
    "    return X_enc\n",
    "\n",
    "def decode(yi):\n",
    "    return yi * 2**-10\n",
    "\n",
    "def decode_pair(yab):\n",
    "    ya = (yab & 0x0000ffff) * 2**-10\n",
    "    ya = ya if ya < 32 else ya - 64\n",
    "    yb = (yab & 0xffff0000) * 2**-26\n",
    "    yb = yb if yb < 32 else yb - 64\n",
    "    return ya, yb\n",
    "\n",
    "def get_output(mmio):\n",
    "    y = np.zeros(10)\n",
    "    for i in range(5):\n",
    "        yi = decode_pair(mmio.read(4 * i))\n",
    "        y[2*i], y[2*i+1] = yi[0], yi[1]\n",
    "    return y[:10]\n",
    "\n",
    "def print_img(matrix, title=\"Label\"):\n",
    "    plt.imshow(matrix, cmap='gray')\n",
    "    plt.title(title)\n",
    "    plt.show()\n",
    "\n",
    "    \n",
    "def print_dt(timea, timeb, N):\n",
    "    dt = (timeb - timea) \n",
    "    rate = N / dt\n",
    "    print(\"Classified {} images in {} seconds ({} inferences / s)\".format(N, dt, rate))\n",
    "    print(\"----------------------------------------------------------------------------\")\n",
    "    print(\"{} s/inference \".format(1/rate))       "
   ]
  },
  {
   "cell_type": "code",
   "execution_count": 203,
   "metadata": {},
   "outputs": [
    {
     "name": "stdout",
     "output_type": "stream",
     "text": [
      "Throughput = 15.632795 image/s\n"
     ]
    }
   ],
   "source": [
    "y = []\n",
    "timea = time()\n",
    "for Xi in X:\n",
    "    X_new = encode_matrix(Xi)\n",
    "    for i in range(392):\n",
    "        in_mmio.write(4 * i, int(X_new[i]))\n",
    "    y.append(get_output(ou_mmio))\n",
    "timeb = time()\n",
    "ips = X.shape[0]/(timeb-timea) #images per second\n",
    "print('Throughput = %f image/s' % ips)"
   ]
  },
  {
   "cell_type": "code",
   "execution_count": 204,
   "metadata": {},
   "outputs": [
    {
     "data": {
      "image/png": "[encoded data removed]",
      "text/plain": [
       "<matplotlib.figure.Figure at 0xadb636b0>"
      ]
     },
     "metadata": {},
     "output_type": "display_data"
    },
    {
     "data": {
      "image/png": "[encoded data removed]",
      "text/plain": [
       "<matplotlib.figure.Figure at 0xae13feb0>"
      ]
     },
     "metadata": {},
     "output_type": "display_data"
    },
    {
     "data": {
      "image/png": "[encoded data removed]",
      "text/plain": [
       "<matplotlib.figure.Figure at 0xae0c6130>"
      ]
     },
     "metadata": {},
     "output_type": "display_data"
    },
    {
     "data": {
      "image/png": "[encoded data removed]",
      "text/plain": [
       "<matplotlib.figure.Figure at 0xae13f930>"
      ]
     },
     "metadata": {},
     "output_type": "display_data"
    },
    {
     "data": {
      "image/png": "[encoded data removed]",
      "text/plain": [
       "<matplotlib.figure.Figure at 0xae368490>"
      ]
     },
     "metadata": {},
     "output_type": "display_data"
    }
   ],
   "source": [
    "for i in range(X.shape[0]):\n",
    "    img_title = ('Out label: %d' % np.argmax(np.array(y[i])))\n",
    "    print_img(X[i], img_title)"
   ]
  },
  {
   "cell_type": "code",
   "execution_count": 201,
   "metadata": {},
   "outputs": [
    {
     "name": "stdout",
     "output_type": "stream",
     "text": [
      "Classified 500 images in 29.522790908813477 seconds (16.936068190312398 inferences / s)\n",
      "----------------------------------------------------------------------------\n",
      "0.05904558181762696 s/inference \n",
      "Classified 500 images in 28.389601707458496 seconds (17.61208223885157 inferences / s)\n",
      "----------------------------------------------------------------------------\n",
      "0.05677920341491699 s/inference \n",
      "Classified 500 images in 28.227139472961426 seconds (17.71344916047715 inferences / s)\n",
      "----------------------------------------------------------------------------\n",
      "0.05645427894592285 s/inference \n",
      "Classified 500 images in 28.20579504966736 seconds (17.726853617122085 inferences / s)\n",
      "----------------------------------------------------------------------------\n",
      "0.05641159009933471 s/inference \n",
      "Classified 500 images in 28.168015003204346 seconds (17.75062956843501 inferences / s)\n",
      "----------------------------------------------------------------------------\n",
      "0.05633603000640869 s/inference \n",
      "Classified 500 images in 28.17823100090027 seconds (17.744194090254474 inferences / s)\n",
      "----------------------------------------------------------------------------\n",
      "0.05635646200180054 s/inference \n",
      "Classified 500 images in 28.234365463256836 seconds (17.708915776792704 inferences / s)\n",
      "----------------------------------------------------------------------------\n",
      "0.056468730926513666 s/inference \n",
      "Classified 500 images in 28.268061637878418 seconds (17.687806345024164 inferences / s)\n",
      "----------------------------------------------------------------------------\n",
      "0.05653612327575683 s/inference \n",
      "Classified 500 images in 28.227003574371338 seconds (17.71353444167819 inferences / s)\n",
      "----------------------------------------------------------------------------\n",
      "0.05645400714874267 s/inference \n",
      "Classified 500 images in 28.199239015579224 seconds (17.73097492892504 inferences / s)\n",
      "----------------------------------------------------------------------------\n",
      "0.056398478031158446 s/inference \n",
      "Classified 500 images in 28.16446805000305 seconds (17.752865032362855 inferences / s)\n",
      "----------------------------------------------------------------------------\n",
      "0.0563289361000061 s/inference \n",
      "Classified 500 images in 28.184910774230957 seconds (17.739988748062405 inferences / s)\n",
      "----------------------------------------------------------------------------\n",
      "0.05636982154846191 s/inference \n",
      "Classified 500 images in 28.30338168144226 seconds (17.665733573025165 inferences / s)\n",
      "----------------------------------------------------------------------------\n",
      "0.056606763362884525 s/inference \n",
      "Classified 500 images in 28.195014238357544 seconds (17.73363176102892 inferences / s)\n",
      "----------------------------------------------------------------------------\n",
      "0.05639002847671509 s/inference \n",
      "Classified 500 images in 28.229792833328247 seconds (17.711784246949815 inferences / s)\n",
      "----------------------------------------------------------------------------\n",
      "0.056459585666656494 s/inference \n",
      "Classified 500 images in 28.226770401000977 seconds (17.71368076817846 inferences / s)\n",
      "----------------------------------------------------------------------------\n",
      "0.056453540802001954 s/inference \n",
      "Classified 500 images in 29.11123251914978 seconds (17.175500888569143 inferences / s)\n",
      "----------------------------------------------------------------------------\n",
      "0.05822246503829956 s/inference \n",
      "Classified 500 images in 29.53179621696472 seconds (16.930903773227715 inferences / s)\n",
      "----------------------------------------------------------------------------\n",
      "0.059063592433929446 s/inference \n",
      "Classified 500 images in 29.530808210372925 seconds (16.93147022723107 inferences / s)\n",
      "----------------------------------------------------------------------------\n",
      "0.059061616420745845 s/inference \n",
      "Classified 10000 images in 570.6112260818481 seconds (17.525067056016184 inferences / s)\n",
      "----------------------------------------------------------------------------\n",
      "0.05706112260818482 s/inference \n"
     ]
    }
   ],
   "source": [
    "N_callback = 500\n",
    "\n",
    "X = np.load('./X_test.npy').astype(np.float32)\n",
    "y = []\n",
    "timea = time()\n",
    "time0 = time()\n",
    "for iXi, Xi in enumerate(X):\n",
    "    X_new = encode_matrix(Xi)\n",
    "    for i in range(392):\n",
    "        in_mmio.write(4 * i, int(X_new[i]))\n",
    "    y.append(get_output(ou_mmio))\n",
    "    if (iXi % N_callback == 0) & (iXi != 0):\n",
    "        time1 = time()\n",
    "        print_dt(time0, time1, N_callback)\n",
    "        time0 = time()\n",
    "\n",
    "timeb = time()\n",
    "print_dt(timea, timeb, X.shape[0])\n",
    "np.save('y_pynq.npy', y)"
   ]
  },
  {
   "cell_type": "code",
   "execution_count": null,
   "metadata": {},
   "outputs": [],
   "source": []
  }
 ],
 "metadata": {
  "kernelspec": {
   "display_name": "Python 3",
   "language": "python",
   "name": "python3"
  },
  "language_info": {
   "codemirror_mode": {
    "name": "ipython",
    "version": 3
   },
   "file_extension": ".py",
   "mimetype": "text/x-python",
   "name": "python",
   "nbconvert_exporter": "python",
   "pygments_lexer": "ipython3",
   "version": "3.6.5"
  }
 },
 "nbformat": 4,
 "nbformat_minor": 2
}
