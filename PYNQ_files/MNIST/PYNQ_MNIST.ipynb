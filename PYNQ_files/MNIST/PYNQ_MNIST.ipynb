{
 "cells": [
  {
   "cell_type": "code",
   "execution_count": 1,
   "metadata": {},
   "outputs": [
    {
     "data": {
      "application/javascript": [
       "\n",
       "try {\n",
       "require(['notebook/js/codecell'], function(codecell) {\n",
       "  codecell.CodeCell.options_default.highlight_modes[\n",
       "      'magic_text/x-csrc'] = {'reg':[/^%%microblaze/]};\n",
       "  Jupyter.notebook.events.one('kernel_ready.Kernel', function(){\n",
       "      Jupyter.notebook.get_cells().map(function(cell){\n",
       "          if (cell.cell_type == 'code'){ cell.auto_highlight(); } }) ;\n",
       "  });\n",
       "});\n",
       "} catch (e) {};\n"
      ]
     },
     "metadata": {},
     "output_type": "display_data"
    },
    {
     "data": {
      "application/javascript": [
       "\n",
       "try {\n",
       "require(['notebook/js/codecell'], function(codecell) {\n",
       "  codecell.CodeCell.options_default.highlight_modes[\n",
       "      'magic_text/x-csrc'] = {'reg':[/^%%pybind11/]};\n",
       "  Jupyter.notebook.events.one('kernel_ready.Kernel', function(){\n",
       "      Jupyter.notebook.get_cells().map(function(cell){\n",
       "          if (cell.cell_type == 'code'){ cell.auto_highlight(); } }) ;\n",
       "  });\n",
       "});\n",
       "} catch (e) {};\n"
      ]
     },
     "metadata": {},
     "output_type": "display_data"
    }
   ],
   "source": [
    "from pynq import Overlay\n",
    "from pynq import MMIO\n",
    "import numpy as np\n",
    "import struct\n",
    "from time import time\n",
    "\n",
    "from matplotlib import pyplot as plt"
   ]
  },
  {
   "cell_type": "markdown",
   "metadata": {},
   "source": [
    "## CNN"
   ]
  },
  {
   "cell_type": "markdown",
   "metadata": {},
   "source": [
    "### Load the overlay"
   ]
  },
  {
   "cell_type": "code",
   "execution_count": 2,
   "metadata": {},
   "outputs": [],
   "source": [
    "from pynq import Overlay\n",
    "\n",
    "overlay = Overlay('/home/xilinx/pynq/overlays/User_overlay/PYNQ_CNN.bit')"
   ]
  },
  {
   "cell_type": "code",
   "execution_count": 3,
   "metadata": {},
   "outputs": [
    {
     "data": {
      "text/plain": [
       "True"
      ]
     },
     "execution_count": 3,
     "metadata": {},
     "output_type": "execute_result"
    }
   ],
   "source": [
    "overlay.is_loaded()"
   ]
  },
  {
   "cell_type": "markdown",
   "metadata": {},
   "source": [
    "### Check the clocks"
   ]
  },
  {
   "cell_type": "code",
   "execution_count": 4,
   "metadata": {},
   "outputs": [
    {
     "name": "stdout",
     "output_type": "stream",
     "text": [
      "CPU:   650.000000MHz\n",
      "FCLK0: 100.000000MHz\n",
      "FCLK1: 100.000000MHz\n",
      "FCLK2: 100.000000MHz\n",
      "FCLK3: 100.000000MHz\n"
     ]
    }
   ],
   "source": [
    "from pynq import Clocks\n",
    "\n",
    "print(f'CPU:   {Clocks.cpu_mhz:.6f}MHz')\n",
    "print(f'FCLK0: {Clocks.fclk0_mhz:.6f}MHz')\n",
    "print(f'FCLK1: {Clocks.fclk1_mhz:.6f}MHz')\n",
    "print(f'FCLK2: {Clocks.fclk2_mhz:.6f}MHz')\n",
    "print(f'FCLK3: {Clocks.fclk3_mhz:.6f}MHz')"
   ]
  },
  {
   "cell_type": "markdown",
   "metadata": {},
   "source": [
    "### Define the CNN ip\n",
    "\n",
    "Here we define the ip and diplay the two memory mapped port addresses"
   ]
  },
  {
   "cell_type": "code",
   "execution_count": 5,
   "metadata": {},
   "outputs": [],
   "source": [
    "ip = overlay.CNN_MNIST_0"
   ]
  },
  {
   "cell_type": "code",
   "execution_count": 6,
   "metadata": {},
   "outputs": [
    {
     "data": {
      "text/plain": [
       "RegisterMap {\n",
       "  Memory_in_V = Register(value=0),\n",
       "  Memory_out_V = Register(value=37945396)\n",
       "}"
      ]
     },
     "execution_count": 6,
     "metadata": {},
     "output_type": "execute_result"
    }
   ],
   "source": [
    "ip.register_map"
   ]
  },
  {
   "cell_type": "code",
   "execution_count": 7,
   "metadata": {},
   "outputs": [
    {
     "name": "stdout",
     "output_type": "stream",
     "text": [
      "Memory_in_V.address: 1024\n",
      "Memory_out_V.address: 2048\n"
     ]
    }
   ],
   "source": [
    "print(\"Memory_in_V.address: \" + str(ip.register_map.Memory_in_V.address))\n",
    "print(\"Memory_out_V.address: \" + str(ip.register_map.Memory_out_V.address))"
   ]
  },
  {
   "cell_type": "code",
   "execution_count": 8,
   "metadata": {},
   "outputs": [],
   "source": [
    "in_mmio = MMIO(ip.mmio.base_addr + ip.register_map.Memory_in_V.address, 196 * 4)\n",
    "ou_mmio = MMIO(ip.mmio.base_addr + ip.register_map.Memory_out_V.address, 5 * 4)"
   ]
  },
  {
   "cell_type": "markdown",
   "metadata": {},
   "source": [
    "### Load a fraction of the test dataset"
   ]
  },
  {
   "cell_type": "code",
   "execution_count": 9,
   "metadata": {},
   "outputs": [],
   "source": [
    "X = np.load('./X_test.npy').astype(np.float32)\n",
    "X = X[:5]"
   ]
  },
  {
   "cell_type": "code",
   "execution_count": 10,
   "metadata": {},
   "outputs": [],
   "source": [
    "def encode_matrix(matrix):\n",
    "    X_ca = np.reshape(matrix*2**5, (196,4))\n",
    "    X_ca = X_ca.astype(np.uint32)\n",
    "    X_enc = X_ca[:,0] + (X_ca[:,1]<<8) + (X_ca[:,2]<<16) + (X_ca[:,3]<<24)\n",
    "    return X_enc\n",
    "\n",
    "\n",
    "def decode(yi):\n",
    "    return yi * 2**-10\n",
    "\n",
    "def decode_pair(yab):\n",
    "    ya = (yab & 0x0000ffff) * 2**-10\n",
    "    ya = ya if ya < 32 else ya - 64\n",
    "    yb = (yab & 0xffff0000) * 2**-26\n",
    "    yb = yb if yb < 32 else yb - 64\n",
    "    return ya, yb\n",
    "\n",
    "def get_output(mmio):\n",
    "    y = np.zeros(10)\n",
    "    for i in range(5):\n",
    "        yi = decode_pair(mmio.read(4 * i))\n",
    "        y[2*i], y[2*i+1] = yi[0], yi[1]\n",
    "    return y[:10]\n",
    "\n",
    "#def decode_output(y):\n",
    "    \n",
    "\n",
    "def print_img(matrix, title=\"Label\"):\n",
    "    plt.imshow(matrix, cmap='gray')\n",
    "    plt.title(title)\n",
    "    plt.show()\n",
    "\n",
    "    \n",
    "def print_dt(timea, timeb, N):\n",
    "    dt = (timeb - timea) \n",
    "    rate = N / dt\n",
    "    print(\"Classified {} images in {} seconds ({} inferences / s)\".format(N, dt, rate))\n",
    "    print(\"----------------------------------------------------------------------------\")\n",
    "    print(\"{} s/inference \".format(1/rate))       "
   ]
  },
  {
   "cell_type": "markdown",
   "metadata": {},
   "source": [
    "### Test\n",
    "Siple test on the first five images"
   ]
  },
  {
   "cell_type": "code",
   "execution_count": 11,
   "metadata": {},
   "outputs": [
    {
     "name": "stdout",
     "output_type": "stream",
     "text": [
      "Throughput = 100.684238 image/s\n"
     ]
    }
   ],
   "source": [
    "y = []\n",
    "timea = time()\n",
    "for Xi in X:\n",
    "    X_new = encode_matrix(Xi)\n",
    "    for i in range(196):\n",
    "        in_mmio.write(4 * i, int(X_new[i]))\n",
    "    y.append(get_output(ou_mmio))\n",
    "timeb = time()\n",
    "ips = X.shape[0]/(timeb-timea) #images per second\n",
    "print('Throughput = %f image/s' % ips)"
   ]
  },
  {
   "cell_type": "code",
   "execution_count": 12,
   "metadata": {},
   "outputs": [
    {
     "data": {
      "image/png": "[encoded data removed]",
      "text/plain": [
       "<matplotlib.figure.Figure at 0xae36afb0>"
      ]
     },
     "metadata": {},
     "output_type": "display_data"
    },
    {
     "data": {
      "image/png": "[encoded data removed]",
      "text/plain": [
       "<matplotlib.figure.Figure at 0xafa4e450>"
      ]
     },
     "metadata": {},
     "output_type": "display_data"
    },
    {
     "data": {
      "image/png": "[encoded data removed]",
      "text/plain": [
       "<matplotlib.figure.Figure at 0xae264410>"
      ]
     },
     "metadata": {},
     "output_type": "display_data"
    },
    {
     "data": {
      "image/png": "[encoded data removed]",
      "text/plain": [
       "<matplotlib.figure.Figure at 0xae2c7af0>"
      ]
     },
     "metadata": {},
     "output_type": "display_data"
    },
    {
     "data": {
      "image/png": "[encoded data removed]",
      "text/plain": [
       "<matplotlib.figure.Figure at 0xae2202b0>"
      ]
     },
     "metadata": {},
     "output_type": "display_data"
    }
   ],
   "source": [
    "for i in range(X.shape[0]):\n",
    "    img_title = ('Predicted label: %d' % np.argmax(np.array(y[i])))\n",
    "    print_img(X[i], img_title)"
   ]
  },
  {
   "cell_type": "markdown",
   "metadata": {},
   "source": [
    "### Whole dataset computation"
   ]
  },
  {
   "cell_type": "code",
   "execution_count": 13,
   "metadata": {},
   "outputs": [
    {
     "name": "stdout",
     "output_type": "stream",
     "text": [
      "Classified 500 images in 3.961265802383423 seconds (126.22227968119658 inferences / s)\n",
      "----------------------------------------------------------------------------\n",
      "0.007922531604766846 s/inference \n",
      "Classified 500 images in 3.953728199005127 seconds (126.46291672902922 inferences / s)\n",
      "----------------------------------------------------------------------------\n",
      "0.007907456398010253 s/inference \n",
      "Classified 500 images in 3.955095052719116 seconds (126.41921201268006 inferences / s)\n",
      "----------------------------------------------------------------------------\n",
      "0.007910190105438232 s/inference \n",
      "Classified 500 images in 3.957608938217163 seconds (126.33891013629095 inferences / s)\n",
      "----------------------------------------------------------------------------\n",
      "0.007915217876434327 s/inference \n",
      "Classified 500 images in 3.9686338901519775 seconds (125.98793787472613 inferences / s)\n",
      "----------------------------------------------------------------------------\n",
      "0.007937267780303955 s/inference \n",
      "Classified 500 images in 3.9537570476531982 seconds (126.46199399044542 inferences / s)\n",
      "----------------------------------------------------------------------------\n",
      "0.007907514095306397 s/inference \n",
      "Classified 500 images in 3.938429117202759 seconds (126.95417008168003 inferences / s)\n",
      "----------------------------------------------------------------------------\n",
      "0.007876858234405518 s/inference \n",
      "Classified 500 images in 3.9538564682006836 seconds (126.45881407716841 inferences / s)\n",
      "----------------------------------------------------------------------------\n",
      "0.007907712936401367 s/inference \n",
      "Classified 500 images in 3.805016279220581 seconds (131.4054824759961 inferences / s)\n",
      "----------------------------------------------------------------------------\n",
      "0.007610032558441162 s/inference \n",
      "Classified 500 images in 3.802964448928833 seconds (131.4763802593088 inferences / s)\n",
      "----------------------------------------------------------------------------\n",
      "0.007605928897857666 s/inference \n",
      "Classified 500 images in 3.8075199127197266 seconds (131.31907684308027 inferences / s)\n",
      "----------------------------------------------------------------------------\n",
      "0.0076150398254394526 s/inference \n",
      "Classified 500 images in 3.7931599617004395 seconds (131.81621788917505 inferences / s)\n",
      "----------------------------------------------------------------------------\n",
      "0.0075863199234008786 s/inference \n",
      "Classified 500 images in 3.792371988296509 seconds (131.84360646662049 inferences / s)\n",
      "----------------------------------------------------------------------------\n",
      "0.007584743976593018 s/inference \n",
      "Classified 500 images in 3.8005008697509766 seconds (131.5616065186592 inferences / s)\n",
      "----------------------------------------------------------------------------\n",
      "0.007601001739501952 s/inference \n",
      "Classified 500 images in 3.7939891815185547 seconds (131.78740794402412 inferences / s)\n",
      "----------------------------------------------------------------------------\n",
      "0.00758797836303711 s/inference \n",
      "Classified 500 images in 3.8271045684814453 seconds (130.64707040351257 inferences / s)\n",
      "----------------------------------------------------------------------------\n",
      "0.007654209136962891 s/inference \n",
      "Classified 500 images in 3.800257682800293 seconds (131.5700254387922 inferences / s)\n",
      "----------------------------------------------------------------------------\n",
      "0.007600515365600586 s/inference \n",
      "Classified 500 images in 3.803483486175537 seconds (131.45843851231174 inferences / s)\n",
      "----------------------------------------------------------------------------\n",
      "0.007606966972351074 s/inference \n",
      "Classified 500 images in 3.794275999069214 seconds (131.77744584807658 inferences / s)\n",
      "----------------------------------------------------------------------------\n",
      "0.007588551998138428 s/inference \n",
      "Classified 10000 images in 77.27685165405273 seconds (129.40485780615464 inferences / s)\n",
      "----------------------------------------------------------------------------\n",
      "0.0077276851654052734 s/inference \n"
     ]
    }
   ],
   "source": [
    "N_callback = 500\n",
    "\n",
    "X = np.load('./X_test.npy').astype(np.float32)\n",
    "y = []\n",
    "timea = time()\n",
    "time0 = time()\n",
    "for iXi, Xi in enumerate(X):\n",
    "    X_new = encode_matrix(Xi)\n",
    "    for i in range(196):\n",
    "        in_mmio.write(4 * i, int(X_new[i]))\n",
    "    y.append(get_output(ou_mmio))\n",
    "    if (iXi % N_callback == 0) & (iXi != 0):\n",
    "        time1 = time()\n",
    "        print_dt(time0, time1, N_callback)\n",
    "        time0 = time()\n",
    "\n",
    "timeb = time()\n",
    "print_dt(timea, timeb, X.shape[0])\n",
    "np.save('y_pynq_CNN.npy', y)"
   ]
  },
  {
   "cell_type": "markdown",
   "metadata": {},
   "source": [
    "## DNN "
   ]
  },
  {
   "cell_type": "code",
   "execution_count": 14,
   "metadata": {},
   "outputs": [],
   "source": [
    "from pynq import Overlay\n",
    "\n",
    "overlay = Overlay('/home/xilinx/pynq/overlays/User_overlay/PYNQ_DNN.bit')"
   ]
  },
  {
   "cell_type": "code",
   "execution_count": 15,
   "metadata": {},
   "outputs": [
    {
     "data": {
      "text/plain": [
       "True"
      ]
     },
     "execution_count": 15,
     "metadata": {},
     "output_type": "execute_result"
    }
   ],
   "source": [
    "overlay.is_loaded()"
   ]
  },
  {
   "cell_type": "code",
   "execution_count": 16,
   "metadata": {},
   "outputs": [
    {
     "name": "stdout",
     "output_type": "stream",
     "text": [
      "CPU:   650.000000MHz\n",
      "FCLK0: 100.000000MHz\n",
      "FCLK1: 100.000000MHz\n",
      "FCLK2: 100.000000MHz\n",
      "FCLK3: 100.000000MHz\n"
     ]
    }
   ],
   "source": [
    "from pynq import Clocks\n",
    "\n",
    "print(f'CPU:   {Clocks.cpu_mhz:.6f}MHz')\n",
    "print(f'FCLK0: {Clocks.fclk0_mhz:.6f}MHz')\n",
    "print(f'FCLK1: {Clocks.fclk1_mhz:.6f}MHz')\n",
    "print(f'FCLK2: {Clocks.fclk2_mhz:.6f}MHz')\n",
    "print(f'FCLK3: {Clocks.fclk3_mhz:.6f}MHz')"
   ]
  },
  {
   "cell_type": "code",
   "execution_count": 17,
   "metadata": {},
   "outputs": [],
   "source": [
    "ip = overlay.DNN_MNIST_0"
   ]
  },
  {
   "cell_type": "code",
   "execution_count": 18,
   "metadata": {},
   "outputs": [
    {
     "data": {
      "text/plain": [
       "RegisterMap {\n",
       "  Memory_in_V = Register(value=0),\n",
       "  Memory_out_V = Register(value=9437208)\n",
       "}"
      ]
     },
     "execution_count": 18,
     "metadata": {},
     "output_type": "execute_result"
    }
   ],
   "source": [
    "ip.register_map"
   ]
  },
  {
   "cell_type": "code",
   "execution_count": 19,
   "metadata": {},
   "outputs": [
    {
     "name": "stdout",
     "output_type": "stream",
     "text": [
      "Memory_in_V.address: 1024\n",
      "Memory_out_V.address: 2048\n"
     ]
    }
   ],
   "source": [
    "print(\"Memory_in_V.address: \" + str(ip.register_map.Memory_in_V.address))\n",
    "print(\"Memory_out_V.address: \" + str(ip.register_map.Memory_out_V.address))"
   ]
  },
  {
   "cell_type": "code",
   "execution_count": 20,
   "metadata": {},
   "outputs": [],
   "source": [
    "in_mmio = MMIO(ip.mmio.base_addr + ip.register_map.Memory_in_V.address, 196 * 4)\n",
    "ou_mmio = MMIO(ip.mmio.base_addr + ip.register_map.Memory_out_V.address, 5 * 4)"
   ]
  },
  {
   "cell_type": "code",
   "execution_count": 21,
   "metadata": {},
   "outputs": [],
   "source": [
    "X = np.load('./X_test.npy').astype(np.float32)\n",
    "X = X[:5]"
   ]
  },
  {
   "cell_type": "code",
   "execution_count": 22,
   "metadata": {},
   "outputs": [
    {
     "name": "stdout",
     "output_type": "stream",
     "text": [
      "Throughput = 76.740328 image/s\n"
     ]
    }
   ],
   "source": [
    "y = []\n",
    "timea = time()\n",
    "for Xi in X:\n",
    "    X_new = encode_matrix(Xi)\n",
    "    for i in range(196):\n",
    "        in_mmio.write(4 * i, int(X_new[i]))\n",
    "    y.append(get_output(ou_mmio))\n",
    "timeb = time()\n",
    "ips = X.shape[0]/(timeb-timea) #images per second\n",
    "print('Throughput = %f image/s' % ips)"
   ]
  },
  {
   "cell_type": "code",
   "execution_count": 23,
   "metadata": {},
   "outputs": [
    {
     "data": {
      "image/png": "[encoded data removed]",
      "text/plain": [
       "<matplotlib.figure.Figure at 0xaee28e90>"
      ]
     },
     "metadata": {},
     "output_type": "display_data"
    },
    {
     "data": {
      "image/png": "[encoded data removed]",
      "text/plain": [
       "<matplotlib.figure.Figure at 0xae379af0>"
      ]
     },
     "metadata": {},
     "output_type": "display_data"
    },
    {
     "data": {
      "image/png": "[encoded data removed]",
      "text/plain": [
       "<matplotlib.figure.Figure at 0xae2e1c90>"
      ]
     },
     "metadata": {},
     "output_type": "display_data"
    },
    {
     "data": {
      "image/png": "[encoded data removed]",
      "text/plain": [
       "<matplotlib.figure.Figure at 0xae26a3b0>"
      ]
     },
     "metadata": {},
     "output_type": "display_data"
    },
    {
     "data": {
      "image/png": "[encoded data removed]",
      "text/plain": [
       "<matplotlib.figure.Figure at 0xae1cddb0>"
      ]
     },
     "metadata": {},
     "output_type": "display_data"
    }
   ],
   "source": [
    "for i in range(X.shape[0]):\n",
    "    img_title = ('Predicted label: %d' % np.argmax(np.array(y[i])))\n",
    "    print_img(X[i], img_title)"
   ]
  },
  {
   "cell_type": "code",
   "execution_count": 24,
   "metadata": {},
   "outputs": [
    {
     "name": "stdout",
     "output_type": "stream",
     "text": [
      "Classified 500 images in 3.9998793601989746 seconds (125.0037701074883 inferences / s)\n",
      "----------------------------------------------------------------------------\n",
      "0.007999758720397949 s/inference \n",
      "Classified 500 images in 3.842712163925171 seconds (130.11643304797275 inferences / s)\n",
      "----------------------------------------------------------------------------\n",
      "0.007685424327850342 s/inference \n",
      "Classified 500 images in 3.84317946434021 seconds (130.10061191244398 inferences / s)\n",
      "----------------------------------------------------------------------------\n",
      "0.00768635892868042 s/inference \n",
      "Classified 500 images in 3.834834337234497 seconds (130.38372874291528 inferences / s)\n",
      "----------------------------------------------------------------------------\n",
      "0.007669668674468995 s/inference \n",
      "Classified 500 images in 3.840297222137451 seconds (130.19825578024077 inferences / s)\n",
      "----------------------------------------------------------------------------\n",
      "0.007680594444274902 s/inference \n",
      "Classified 500 images in 3.8425076007843018 seconds (130.12336004174566 inferences / s)\n",
      "----------------------------------------------------------------------------\n",
      "0.007685015201568604 s/inference \n",
      "Classified 500 images in 3.8293890953063965 seconds (130.56912931956685 inferences / s)\n",
      "----------------------------------------------------------------------------\n",
      "0.007658778190612793 s/inference \n",
      "Classified 500 images in 3.8276989459991455 seconds (130.62678310231757 inferences / s)\n",
      "----------------------------------------------------------------------------\n",
      "0.007655397891998292 s/inference \n",
      "Classified 500 images in 3.8379874229431152 seconds (130.27661242740106 inferences / s)\n",
      "----------------------------------------------------------------------------\n",
      "0.00767597484588623 s/inference \n",
      "Classified 500 images in 3.8304266929626465 seconds (130.53376035589253 inferences / s)\n",
      "----------------------------------------------------------------------------\n",
      "0.007660853385925293 s/inference \n",
      "Classified 500 images in 3.833421230316162 seconds (130.4317918536603 inferences / s)\n",
      "----------------------------------------------------------------------------\n",
      "0.007666842460632324 s/inference \n",
      "Classified 500 images in 3.850844621658325 seconds (129.84164491806484 inferences / s)\n",
      "----------------------------------------------------------------------------\n",
      "0.00770168924331665 s/inference \n",
      "Classified 500 images in 3.8290114402770996 seconds (130.5820073402068 inferences / s)\n",
      "----------------------------------------------------------------------------\n",
      "0.0076580228805541994 s/inference \n",
      "Classified 500 images in 3.829003095626831 seconds (130.58229192111608 inferences / s)\n",
      "----------------------------------------------------------------------------\n",
      "0.007658006191253662 s/inference \n",
      "Classified 500 images in 3.84442138671875 seconds (130.05858351723373 inferences / s)\n",
      "----------------------------------------------------------------------------\n",
      "0.007688842773437499 s/inference \n",
      "Classified 500 images in 3.831733465194702 seconds (130.48924319546674 inferences / s)\n",
      "----------------------------------------------------------------------------\n",
      "0.007663466930389404 s/inference \n",
      "Classified 500 images in 3.8323910236358643 seconds (130.4668539604396 inferences / s)\n",
      "----------------------------------------------------------------------------\n",
      "0.007664782047271729 s/inference \n",
      "Classified 500 images in 3.8335726261138916 seconds (130.42664082951052 inferences / s)\n",
      "----------------------------------------------------------------------------\n",
      "0.007667145252227784 s/inference \n",
      "Classified 500 images in 3.8423140048980713 seconds (130.1299163375545 inferences / s)\n",
      "----------------------------------------------------------------------------\n",
      "0.007684628009796143 s/inference \n",
      "Classified 10000 images in 76.89702129364014 seconds (130.04404893414335 inferences / s)\n",
      "----------------------------------------------------------------------------\n",
      "0.007689702129364013 s/inference \n"
     ]
    }
   ],
   "source": [
    "N_callback = 500\n",
    "\n",
    "X = np.load('./X_test.npy').astype(np.float32)\n",
    "y = []\n",
    "timea = time()\n",
    "time0 = time()\n",
    "for iXi, Xi in enumerate(X):\n",
    "    X_new = encode_matrix(Xi)\n",
    "    for i in range(196):\n",
    "        in_mmio.write(4 * i, int(X_new[i]))\n",
    "    y.append(get_output(ou_mmio))\n",
    "    if (iXi % N_callback == 0) & (iXi != 0):\n",
    "        time1 = time()\n",
    "        print_dt(time0, time1, N_callback)\n",
    "        time0 = time()\n",
    "\n",
    "timeb = time()\n",
    "print_dt(timea, timeb, X.shape[0])\n",
    "np.save('y_pynq_DNN.npy', y)"
   ]
  },
  {
   "cell_type": "code",
   "execution_count": null,
   "metadata": {},
   "outputs": [],
   "source": []
  }
 ],
 "metadata": {
  "kernelspec": {
   "display_name": "Python 3",
   "language": "python",
   "name": "python3"
  },
  "language_info": {
   "codemirror_mode": {
    "name": "ipython",
    "version": 3
   },
   "file_extension": ".py",
   "mimetype": "text/x-python",
   "name": "python",
   "nbconvert_exporter": "python",
   "pygments_lexer": "ipython3",
   "version": "3.6.5"
  }
 },
 "nbformat": 4,
 "nbformat_minor": 2
}
