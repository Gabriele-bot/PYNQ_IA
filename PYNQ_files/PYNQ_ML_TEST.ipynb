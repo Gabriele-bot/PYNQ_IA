{
 "cells": [
  {
   "cell_type": "code",
   "execution_count": 1,
   "metadata": {},
   "outputs": [
    {
     "data": {
      "application/javascript": [
       "\n",
       "try {\n",
       "require(['notebook/js/codecell'], function(codecell) {\n",
       "  codecell.CodeCell.options_default.highlight_modes[\n",
       "      'magic_text/x-csrc'] = {'reg':[/^%%microblaze/]};\n",
       "  Jupyter.notebook.events.one('kernel_ready.Kernel', function(){\n",
       "      Jupyter.notebook.get_cells().map(function(cell){\n",
       "          if (cell.cell_type == 'code'){ cell.auto_highlight(); } }) ;\n",
       "  });\n",
       "});\n",
       "} catch (e) {};\n"
      ]
     },
     "metadata": {},
     "output_type": "display_data"
    },
    {
     "data": {
      "application/javascript": [
       "\n",
       "try {\n",
       "require(['notebook/js/codecell'], function(codecell) {\n",
       "  codecell.CodeCell.options_default.highlight_modes[\n",
       "      'magic_text/x-csrc'] = {'reg':[/^%%pybind11/]};\n",
       "  Jupyter.notebook.events.one('kernel_ready.Kernel', function(){\n",
       "      Jupyter.notebook.get_cells().map(function(cell){\n",
       "          if (cell.cell_type == 'code'){ cell.auto_highlight(); } }) ;\n",
       "  });\n",
       "});\n",
       "} catch (e) {};\n"
      ]
     },
     "metadata": {},
     "output_type": "display_data"
    }
   ],
   "source": [
    "from pynq import Overlay\n",
    "from pynq import MMIO\n",
    "import pynq.lib.dma\n",
    "from pynq import allocate\n",
    "import numpy as np\n",
    "import struct\n",
    "from time import time"
   ]
  },
  {
   "cell_type": "code",
   "execution_count": 2,
   "metadata": {},
   "outputs": [],
   "source": [
    "from pynq import Overlay\n",
    "\n",
    "overlay = Overlay('/home/xilinx/pynq/overlays/User_overlay/PYNQ_ML.bit')"
   ]
  },
  {
   "cell_type": "code",
   "execution_count": 3,
   "metadata": {},
   "outputs": [
    {
     "data": {
      "text/plain": [
       "True"
      ]
     },
     "execution_count": 3,
     "metadata": {},
     "output_type": "execute_result"
    }
   ],
   "source": [
    "overlay.is_loaded()"
   ]
  },
  {
   "cell_type": "code",
   "execution_count": 5,
   "metadata": {},
   "outputs": [
    {
     "name": "stdout",
     "output_type": "stream",
     "text": [
      "CPU:   650.000000MHz\n",
      "FCLK0: 100.000000MHz\n",
      "FCLK1: 100.000000MHz\n",
      "FCLK2: 100.000000MHz\n",
      "FCLK3: 100.000000MHz\n"
     ]
    }
   ],
   "source": [
    "from pynq import Clocks\n",
    "\n",
    "print(f'CPU:   {Clocks.cpu_mhz:.6f}MHz')\n",
    "print(f'FCLK0: {Clocks.fclk0_mhz:.6f}MHz')\n",
    "print(f'FCLK1: {Clocks.fclk1_mhz:.6f}MHz')\n",
    "print(f'FCLK2: {Clocks.fclk2_mhz:.6f}MHz')\n",
    "print(f'FCLK3: {Clocks.fclk3_mhz:.6f}MHz')"
   ]
  },
  {
   "cell_type": "code",
   "execution_count": 5,
   "metadata": {},
   "outputs": [
    {
     "name": "stdout",
     "output_type": "stream",
     "text": [
      "CPU:   650.000000MHz\n",
      "FCLK0: 200.000000MHz\n",
      "FCLK1: 100.000000MHz\n",
      "FCLK2: 100.000000MHz\n",
      "FCLK3: 100.000000MHz\n"
     ]
    }
   ],
   "source": [
    "Clocks.fclk0_mhz = 200\n",
    "\n",
    "print(f'CPU:   {Clocks.cpu_mhz:.6f}MHz')\n",
    "print(f'FCLK0: {Clocks.fclk0_mhz:.6f}MHz')\n",
    "print(f'FCLK1: {Clocks.fclk1_mhz:.6f}MHz')\n",
    "print(f'FCLK2: {Clocks.fclk2_mhz:.6f}MHz')\n",
    "print(f'FCLK3: {Clocks.fclk3_mhz:.6f}MHz')"
   ]
  },
  {
   "cell_type": "code",
   "execution_count": 4,
   "metadata": {},
   "outputs": [],
   "source": [
    "ip = overlay.NN_inference_axi_0"
   ]
  },
  {
   "cell_type": "code",
   "execution_count": 5,
   "metadata": {},
   "outputs": [
    {
     "name": "stdout",
     "output_type": "stream",
     "text": [
      "Memory_in_V.address: 32\n",
      "Memory_out_V.address: 64\n"
     ]
    }
   ],
   "source": [
    "print(\"Memory_in_V.address: \" + str(ip.register_map.Memory_in_V.address))\n",
    "print(\"Memory_out_V.address: \" + str(ip.register_map.Memory_out_V.address))"
   ]
  },
  {
   "cell_type": "code",
   "execution_count": 6,
   "metadata": {},
   "outputs": [],
   "source": [
    "in_mmio = MMIO(ip.mmio.base_addr + ip.register_map.Memory_in_V.address, 8 * 4)\n",
    "ou_mmio = MMIO(ip.mmio.base_addr + ip.register_map.Memory_out_V.address, 3 * 4)"
   ]
  },
  {
   "cell_type": "code",
   "execution_count": 138,
   "metadata": {},
   "outputs": [],
   "source": [
    "X = np.load('./X_test.npy').astype(np.float32)\n",
    "X = X[:2]\n",
    "y = []"
   ]
  },
  {
   "cell_type": "code",
   "execution_count": 122,
   "metadata": {},
   "outputs": [],
   "source": [
    "def encode(xi):\n",
    "    return int(round(xi * 2**10))\n",
    "\n",
    "def encode_ds(xi):\n",
    "    return np.asarray(np.round(xi*2**10), dtype=np.int)\n",
    "\n",
    "def encode_pair(xa, xb):\n",
    "    return encode(xa) + encode(xb) * 2**16\n",
    "    #return encode(xb) + encode(xa) * 2**16\n",
    "    \n",
    "def encode_whole_ds(dataset):\n",
    "    X_flat = dataset.flatten()\n",
    "    res = np.asarray(encode_ds(X_flat[::2]) + (encode_ds(X_flat[1::2])<<16), dtype=np.uint32)              \n",
    "    return res\n",
    "\n",
    "def decode(yi):\n",
    "    return yi * 2**-10\n",
    "\n",
    "def decode_pair(yab):\n",
    "    ya = (yab & 0x0000ffff) * 2**-10\n",
    "    ya = ya if ya < 32 else ya - 64\n",
    "    yb = (yab & 0xffff0000) * 2**-26\n",
    "    yb = yb if yb < 32 else yb - 64\n",
    "    return ya, yb\n",
    "\n",
    "def decode_whole_ds(dataset):\n",
    "    y_13=dataset[:,:2]&0xffff\n",
    "    y_24=(dataset[:,:2]&0xffff0000)>>16\n",
    "    y_5 =dataset[:,2]&0xffff\n",
    "    res=np.column_stack((y_13[:,0],y_24[:,0],y_13[:,1],y_24[:,1],y_5))\n",
    "    return res * 2**-10\n",
    "\n",
    "def get_output(mmio):\n",
    "    y = np.zeros(6)\n",
    "    for i in range(3):\n",
    "        yi = decode_pair(mmio.read(4 * i))\n",
    "        y[2*i], y[2*i+1] = yi[0], yi[1]\n",
    "    return y[:5]\n",
    "\n",
    "def print_dt(timea, timeb, N):\n",
    "    dt = (timeb - timea) \n",
    "    rate = N / dt\n",
    "    print(\"Classified {} samples in {} seconds ({} inferences / s)\".format(N, dt, rate))\n",
    "    print(\"----------------------------------------------------------------------------\")\n",
    "    print(\"{} s/inference \".format(1/rate))\n",
    "    \n",
    "def print_all_dt(timea, timeb, dts, dtr, N):\n",
    "    dt  = (timeb - timea)\n",
    "    rate = N / dt\n",
    "    print(\"Send {} samples took {} seconds\".format(N, dts))\n",
    "    print(\"----------------------------------------------------------------------------\")\n",
    "    print(\"Recieve {} samples took {} seconds\".format(N, dtr))\n",
    "    print(\"----------------------------------------------------------------------------\")\n",
    "    print(\"Classified {} samples in {} seconds ({} inferences / s)\".format(N, dt, rate))\n",
    "    print(\"----------------------------------------------------------------------------\")\n",
    "    print(\"{} s/inference \".format(1/rate))"
   ]
  },
  {
   "cell_type": "code",
   "execution_count": 9,
   "metadata": {},
   "outputs": [
    {
     "name": "stdout",
     "output_type": "stream",
     "text": [
      "100 loops, best of 3: 2.3 ms per loop\n"
     ]
    }
   ],
   "source": [
    "%timeit (encode_whole_ds(X))"
   ]
  },
  {
   "cell_type": "code",
   "execution_count": 132,
   "metadata": {},
   "outputs": [],
   "source": [
    "y = []\n",
    "timea = time()\n",
    "for Xi in X:\n",
    "    for i in range(8):\n",
    "        xab = encode_pair(Xi[2*i], Xi[2*i+1])\n",
    "        in_mmio.write(4 * i, xab)\n",
    "    y.append(get_output(ou_mmio))\n",
    "timeb = time()"
   ]
  },
  {
   "cell_type": "code",
   "execution_count": 133,
   "metadata": {},
   "outputs": [
    {
     "name": "stdout",
     "output_type": "stream",
     "text": [
      "Classified 1000 samples in 2.2413125038146973 seconds (446.1671446074599 inferences / s)\n",
      "----------------------------------------------------------------------------\n",
      "0.002241312503814697 s/inference \n"
     ]
    }
   ],
   "source": [
    "print_dt(timea, timeb, len(X))"
   ]
  },
  {
   "cell_type": "code",
   "execution_count": 103,
   "metadata": {},
   "outputs": [
    {
     "ename": "AttributeError",
     "evalue": "'numpy.ndarray' object has no attribute 'append'",
     "output_type": "error",
     "traceback": [
      "\u001b[0;31m---------------------------------------------------------------------------\u001b[0m",
      "\u001b[0;31mAttributeError\u001b[0m                            Traceback (most recent call last)",
      "\u001b[0;32m<ipython-input-103-72a5f73fc2e8>\u001b[0m in \u001b[0;36m<module>\u001b[0;34m()\u001b[0m\n\u001b[1;32m      7\u001b[0m     \u001b[0;31m#for k in range(3):\u001b[0m\u001b[0;34m\u001b[0m\u001b[0;34m\u001b[0m\u001b[0m\n\u001b[1;32m      8\u001b[0m         \u001b[0;31m#y_enc.append(ou_mmio.read(4 * k))\u001b[0m\u001b[0;34m\u001b[0m\u001b[0;34m\u001b[0m\u001b[0m\n\u001b[0;32m----> 9\u001b[0;31m     \u001b[0my\u001b[0m\u001b[0;34m.\u001b[0m\u001b[0mappend\u001b[0m\u001b[0;34m(\u001b[0m\u001b[0mget_output\u001b[0m\u001b[0;34m(\u001b[0m\u001b[0mou_mmio\u001b[0m\u001b[0;34m)\u001b[0m\u001b[0;34m)\u001b[0m\u001b[0;34m\u001b[0m\u001b[0m\n\u001b[0m\u001b[1;32m     10\u001b[0m \u001b[0mtimeb\u001b[0m \u001b[0;34m=\u001b[0m \u001b[0mtime\u001b[0m\u001b[0;34m(\u001b[0m\u001b[0;34m)\u001b[0m\u001b[0;34m\u001b[0m\u001b[0m\n",
      "\u001b[0;31mAttributeError\u001b[0m: 'numpy.ndarray' object has no attribute 'append'"
     ]
    }
   ],
   "source": [
    "y_enc = []\n",
    "timea = time()\n",
    "X_enc = encode_whole_ds(X)\n",
    "for i in range(int(X_enc.shape[0]/8)):\n",
    "    for j in range(8):\n",
    "        in_mmio.write(4 * j, int(X_enc[i*8+j]))\n",
    "    for k in range(3):\n",
    "        y_temp.append(ou_mmio.read(4 * k))\n",
    "    y_enc.append(y_temp)\n",
    "    y_temp=[]\n",
    "y = decode_whole_ds(np.asarray(y_enc))\n",
    "timeb = time()"
   ]
  },
  {
   "cell_type": "code",
   "execution_count": null,
   "metadata": {},
   "outputs": [],
   "source": [
    "print_dt(timea, timeb, len(X))"
   ]
  },
  {
   "cell_type": "code",
   "execution_count": 24,
   "metadata": {},
   "outputs": [],
   "source": [
    "y_test = np.load('./y_test.npy')"
   ]
  },
  {
   "cell_type": "code",
   "execution_count": 25,
   "metadata": {},
   "outputs": [
    {
     "name": "stdout",
     "output_type": "stream",
     "text": [
      "Running on the board:\n",
      "[0.61523438 0.24023438 0.01464844 0.09375    0.06445312]\n",
      "[0.05761719 0.66601562 0.00976562 0.16796875 0.13085938]\n",
      "[0.08789062 0.08789062 0.84179688 0.00292969 0.01464844]\n",
      "[0.01464844 0.02636719 1.         0.00195312 0.00683594]\n",
      "[0.03613281 0.01855469 0.94042969 0.00097656 0.00683594]\n",
      "Test output:\n",
      "[0. 1. 0. 0. 0.]\n",
      "[0. 1. 0. 0. 0.]\n",
      "[0. 0. 1. 0. 0.]\n",
      "[0. 0. 1. 0. 0.]\n",
      "[0. 0. 1. 0. 0.]\n"
     ]
    }
   ],
   "source": [
    "print(\"Running on the board:\")\n",
    "for i in range(5):\n",
    "    print(y[i])\n",
    "print(\"Test output:\")\n",
    "for i in range(5):\n",
    "    print(y_test[i])"
   ]
  },
  {
   "cell_type": "code",
   "execution_count": 149,
   "metadata": {},
   "outputs": [
    {
     "name": "stdout",
     "output_type": "stream",
     "text": [
      "Classified 5000 samples in 0.009197711944580078 seconds (543613.45844782 inferences / s)\n",
      "----------------------------------------------------------------------------\n",
      "1.8395423889160155e-06 s/inference \n",
      "Classified 5000 samples in 11.211455345153809 seconds (445.97243141687824 inferences / s)\n",
      "----------------------------------------------------------------------------\n",
      "0.002242291069030762 s/inference \n",
      "Classified 5000 samples in 11.223023653030396 seconds (445.5127383296497 inferences / s)\n",
      "----------------------------------------------------------------------------\n",
      "0.002244604730606079 s/inference \n",
      "Classified 5000 samples in 11.256320714950562 seconds (444.19487740421584 inferences / s)\n",
      "----------------------------------------------------------------------------\n",
      "0.002251264142990112 s/inference \n",
      "Classified 5000 samples in 11.222935676574707 seconds (445.51623069856385 inferences / s)\n",
      "----------------------------------------------------------------------------\n",
      "0.0022445871353149413 s/inference \n",
      "Classified 5000 samples in 11.174284934997559 seconds (447.4559248386566 inferences / s)\n",
      "----------------------------------------------------------------------------\n",
      "0.0022348569869995115 s/inference \n",
      "Classified 5000 samples in 11.229339122772217 seconds (445.2621784179973 inferences / s)\n",
      "----------------------------------------------------------------------------\n",
      "0.0022458678245544433 s/inference \n",
      "Classified 5000 samples in 11.21519923210144 seconds (445.82355574107163 inferences / s)\n",
      "----------------------------------------------------------------------------\n",
      "0.002243039846420288 s/inference \n",
      "Classified 5000 samples in 11.21357011795044 seconds (445.8883252529994 inferences / s)\n",
      "----------------------------------------------------------------------------\n",
      "0.0022427140235900876 s/inference \n",
      "Classified 5000 samples in 11.204574823379517 seconds (446.24629482298405 inferences / s)\n",
      "----------------------------------------------------------------------------\n",
      "0.002240914964675903 s/inference \n",
      "Classified 5000 samples in 11.223104000091553 seconds (445.5095488698325 inferences / s)\n",
      "----------------------------------------------------------------------------\n",
      "0.0022446208000183104 s/inference \n",
      "Classified 5000 samples in 11.201738834381104 seconds (446.3592727812646 inferences / s)\n",
      "----------------------------------------------------------------------------\n",
      "0.0022403477668762207 s/inference \n",
      "Classified 5000 samples in 11.230544805526733 seconds (445.2143762018935 inferences / s)\n",
      "----------------------------------------------------------------------------\n",
      "0.0022461089611053465 s/inference \n",
      "Classified 5000 samples in 11.20931100845337 seconds (446.0577457641517 inferences / s)\n",
      "----------------------------------------------------------------------------\n",
      "0.002241862201690674 s/inference \n",
      "Classified 5000 samples in 11.212007522583008 seconds (445.95046782916415 inferences / s)\n",
      "----------------------------------------------------------------------------\n",
      "0.0022424015045166014 s/inference \n",
      "Classified 5000 samples in 11.206868171691895 seconds (446.1549759842631 inferences / s)\n",
      "----------------------------------------------------------------------------\n",
      "0.002241373634338379 s/inference \n",
      "Classified 5000 samples in 11.20780634880066 seconds (446.11762948019236 inferences / s)\n",
      "----------------------------------------------------------------------------\n",
      "0.0022415612697601318 s/inference \n",
      "Classified 5000 samples in 11.234170198440552 seconds (445.0707005217052 inferences / s)\n",
      "----------------------------------------------------------------------------\n",
      "0.00224683403968811 s/inference \n",
      "Classified 5000 samples in 11.203886032104492 seconds (446.27372910368854 inferences / s)\n",
      "----------------------------------------------------------------------------\n",
      "0.0022407772064208984 s/inference \n",
      "Classified 5000 samples in 11.220162153244019 seconds (445.6263583101943 inferences / s)\n",
      "----------------------------------------------------------------------------\n",
      "0.0022440324306488035 s/inference \n",
      "Classified 5000 samples in 11.20357346534729 seconds (446.28617962519064 inferences / s)\n",
      "----------------------------------------------------------------------------\n",
      "0.0022407146930694577 s/inference \n",
      "Classified 5000 samples in 11.211466550827026 seconds (445.97198567489545 inferences / s)\n",
      "----------------------------------------------------------------------------\n",
      "0.0022422933101654053 s/inference \n",
      "Classified 5000 samples in 11.22109341621399 seconds (445.5893748086277 inferences / s)\n",
      "----------------------------------------------------------------------------\n",
      "0.002244218683242798 s/inference \n",
      "Classified 5000 samples in 11.221430778503418 seconds (445.57597856223117 inferences / s)\n",
      "----------------------------------------------------------------------------\n",
      "0.0022442861557006835 s/inference \n",
      "Classified 5000 samples in 11.211515426635742 seconds (445.97004149155936 inferences / s)\n",
      "----------------------------------------------------------------------------\n",
      "0.0022423030853271487 s/inference \n",
      "Classified 5000 samples in 11.215753555297852 seconds (445.80152152489205 inferences / s)\n",
      "----------------------------------------------------------------------------\n",
      "0.0022431507110595703 s/inference \n",
      "Classified 5000 samples in 11.22055435180664 seconds (445.61078207289654 inferences / s)\n",
      "----------------------------------------------------------------------------\n",
      "0.0022441108703613283 s/inference \n",
      "Classified 5000 samples in 11.222720384597778 seconds (445.52477729571444 inferences / s)\n",
      "----------------------------------------------------------------------------\n",
      "0.0022445440769195556 s/inference \n",
      "Classified 5000 samples in 11.247806787490845 seconds (444.5311067719183 inferences / s)\n",
      "----------------------------------------------------------------------------\n",
      "0.002249561357498169 s/inference \n",
      "Classified 5000 samples in 11.20980429649353 seconds (446.038116969091 inferences / s)\n",
      "----------------------------------------------------------------------------\n",
      "0.002241960859298706 s/inference \n",
      "Classified 5000 samples in 11.22150444984436 seconds (445.57305326999614 inferences / s)\n",
      "----------------------------------------------------------------------------\n",
      "0.0022443008899688723 s/inference \n",
      "Classified 5000 samples in 11.210521936416626 seconds (446.00956390423147 inferences / s)\n",
      "----------------------------------------------------------------------------\n",
      "0.002242104387283325 s/inference \n",
      "Classified 5000 samples in 11.228728532791138 seconds (445.2863906539866 inferences / s)\n",
      "----------------------------------------------------------------------------\n",
      "0.0022457457065582277 s/inference \n",
      "Classified 5000 samples in 11.207271099090576 seconds (446.13893567772527 inferences / s)\n",
      "----------------------------------------------------------------------------\n",
      "0.0022414542198181155 s/inference \n",
      "Classified 166000 samples in 372.4414954185486 seconds (445.70758640481165 inferences / s)\n",
      "----------------------------------------------------------------------------\n",
      "0.0022436234663767984 s/inference \n"
     ]
    }
   ],
   "source": [
    "X = np.load('./X_test.npy').astype(np.float32)\n",
    "y = []\n",
    "timea = time()\n",
    "time0 = time()\n",
    "for iXi, Xi in enumerate(X):\n",
    "    for i in range(8):\n",
    "        xab = encode_pair(Xi[2*i], Xi[2*i+1])\n",
    "        in_mmio.write(4 * i, xab)\n",
    "    y.append(get_output(ou_mmio))\n",
    "    if iXi % 5000 == 0:\n",
    "        time1 = time()\n",
    "        print_dt(time0, time1, 5000)\n",
    "        time0 = time()\n",
    "\n",
    "timeb = time()\n",
    "print_dt(timea, timeb, len(X))\n",
    "np.save('y_pynq.npy', y)"
   ]
  },
  {
   "cell_type": "code",
   "execution_count": 150,
   "metadata": {},
   "outputs": [
    {
     "name": "stdout",
     "output_type": "stream",
     "text": [
      "Encode 166000 samples took 0.47521138191223145 seconds\n",
      "----------------------------------------------------------------------------\n",
      "Send 5000 samples took 1.684314489364624 seconds\n",
      "----------------------------------------------------------------------------\n",
      "Recieve 5000 samples took 0.5174541473388672 seconds\n",
      "----------------------------------------------------------------------------\n",
      "Classified 5000 samples in 2.2864739894866943 seconds (2186.773181322077 inferences / s)\n",
      "----------------------------------------------------------------------------\n",
      "0.0004572947978973389 s/inference \n",
      "Send 5000 samples took 1.6980023384094238 seconds\n",
      "----------------------------------------------------------------------------\n",
      "Recieve 5000 samples took 0.5118193626403809 seconds\n",
      "----------------------------------------------------------------------------\n",
      "Classified 5000 samples in 2.2907631397247314 seconds (2182.67873849272 inferences / s)\n",
      "----------------------------------------------------------------------------\n",
      "0.00045815262794494634 s/inference \n",
      "Send 5000 samples took 1.7068674564361572 seconds\n",
      "----------------------------------------------------------------------------\n",
      "Recieve 5000 samples took 1.3844738006591797 seconds\n",
      "----------------------------------------------------------------------------\n",
      "Classified 5000 samples in 3.172630786895752 seconds (1575.9791592050426 inferences / s)\n",
      "----------------------------------------------------------------------------\n",
      "0.0006345261573791505 s/inference \n",
      "Send 5000 samples took 1.7067806720733643 seconds\n",
      "----------------------------------------------------------------------------\n",
      "Recieve 5000 samples took 0.5071120262145996 seconds\n",
      "----------------------------------------------------------------------------\n",
      "Classified 5000 samples in 2.2955803871154785 seconds (2178.0984138319686 inferences / s)\n",
      "----------------------------------------------------------------------------\n",
      "0.0004591160774230957 s/inference \n",
      "Send 5000 samples took 1.7020893096923828 seconds\n",
      "----------------------------------------------------------------------------\n",
      "Recieve 5000 samples took 0.514366865158081 seconds\n",
      "----------------------------------------------------------------------------\n",
      "Classified 5000 samples in 2.2981932163238525 seconds (2175.622121101683 inferences / s)\n",
      "----------------------------------------------------------------------------\n",
      "0.00045963864326477056 s/inference \n",
      "Send 5000 samples took 1.7030158042907715 seconds\n",
      "----------------------------------------------------------------------------\n",
      "Recieve 5000 samples took 0.5113182067871094 seconds\n",
      "----------------------------------------------------------------------------\n",
      "Classified 5000 samples in 2.295379400253296 seconds (2178.2891313951186 inferences / s)\n",
      "----------------------------------------------------------------------------\n",
      "0.00045907588005065917 s/inference \n",
      "Send 5000 samples took 1.7213466167449951 seconds\n",
      "----------------------------------------------------------------------------\n",
      "Recieve 5000 samples took 0.5155296325683594 seconds\n",
      "----------------------------------------------------------------------------\n",
      "Classified 5000 samples in 2.320406198501587 seconds (2154.795140277066 inferences / s)\n",
      "----------------------------------------------------------------------------\n",
      "0.00046408123970031735 s/inference \n",
      "Send 5000 samples took 1.732607126235962 seconds\n",
      "----------------------------------------------------------------------------\n",
      "Recieve 5000 samples took 0.5187759399414062 seconds\n",
      "----------------------------------------------------------------------------\n",
      "Classified 5000 samples in 2.3382740020751953 seconds (2138.3293812284396 inferences / s)\n",
      "----------------------------------------------------------------------------\n",
      "0.0004676548004150391 s/inference \n",
      "Send 5000 samples took 1.739851474761963 seconds\n",
      "----------------------------------------------------------------------------\n",
      "Recieve 5000 samples took 0.5107953548431396 seconds\n",
      "----------------------------------------------------------------------------\n",
      "Classified 5000 samples in 2.3369576930999756 seconds (2139.533811314957 inferences / s)\n",
      "----------------------------------------------------------------------------\n",
      "0.0004673915386199951 s/inference \n",
      "Send 5000 samples took 1.7198688983917236 seconds\n",
      "----------------------------------------------------------------------------\n",
      "Recieve 5000 samples took 0.5165972709655762 seconds\n",
      "----------------------------------------------------------------------------\n",
      "Classified 5000 samples in 2.3220443725585938 seconds (2153.274958518835 inferences / s)\n",
      "----------------------------------------------------------------------------\n",
      "0.00046440887451171877 s/inference \n",
      "Send 5000 samples took 1.725827693939209 seconds\n",
      "----------------------------------------------------------------------------\n",
      "Recieve 5000 samples took 0.5092875957489014 seconds\n",
      "----------------------------------------------------------------------------\n",
      "Classified 5000 samples in 2.3214457035064697 seconds (2153.830258639114 inferences / s)\n",
      "----------------------------------------------------------------------------\n",
      "0.00046428914070129393 s/inference \n",
      "Send 5000 samples took 1.7355566024780273 seconds\n",
      "----------------------------------------------------------------------------\n",
      "Recieve 5000 samples took 0.515249490737915 seconds\n",
      "----------------------------------------------------------------------------\n",
      "Classified 5000 samples in 2.337770700454712 seconds (2138.7897448742374 inferences / s)\n",
      "----------------------------------------------------------------------------\n",
      "0.00046755414009094234 s/inference \n",
      "Send 5000 samples took 1.736356258392334 seconds\n",
      "----------------------------------------------------------------------------\n",
      "Recieve 5000 samples took 0.5158426761627197 seconds\n",
      "----------------------------------------------------------------------------\n",
      "Classified 5000 samples in 2.3387086391448975 seconds (2137.93198362159 inferences / s)\n",
      "----------------------------------------------------------------------------\n",
      "0.0004677417278289795 s/inference \n",
      "Send 5000 samples took 1.737011432647705 seconds\n",
      "----------------------------------------------------------------------------\n",
      "Recieve 5000 samples took 0.5146899223327637 seconds\n",
      "----------------------------------------------------------------------------\n",
      "Classified 5000 samples in 2.339559555053711 seconds (2137.1544012202808 inferences / s)\n",
      "----------------------------------------------------------------------------\n",
      "0.00046791191101074216 s/inference \n",
      "Send 5000 samples took 1.7329187393188477 seconds\n",
      "----------------------------------------------------------------------------\n",
      "Recieve 5000 samples took 0.5181748867034912 seconds\n",
      "----------------------------------------------------------------------------\n",
      "Classified 5000 samples in 2.3378989696502686 seconds (2138.6723998376888 inferences / s)\n",
      "----------------------------------------------------------------------------\n",
      "0.00046757979393005373 s/inference \n",
      "Send 5000 samples took 1.7388200759887695 seconds\n",
      "----------------------------------------------------------------------------\n",
      "Recieve 5000 samples took 0.5125343799591064 seconds\n",
      "----------------------------------------------------------------------------\n",
      "Classified 5000 samples in 2.3388237953186035 seconds (2137.826718715627 inferences / s)\n",
      "----------------------------------------------------------------------------\n",
      "0.00046776475906372075 s/inference \n",
      "Send 5000 samples took 1.7330138683319092 seconds\n",
      "----------------------------------------------------------------------------\n",
      "Recieve 5000 samples took 0.5192172527313232 seconds\n",
      "----------------------------------------------------------------------------\n",
      "Classified 5000 samples in 2.3386952877044678 seconds (2137.9441889189934 inferences / s)\n",
      "----------------------------------------------------------------------------\n",
      "0.00046773905754089355 s/inference \n",
      "Send 5000 samples took 1.7348155975341797 seconds\n",
      "----------------------------------------------------------------------------\n",
      "Recieve 5000 samples took 0.5174474716186523 seconds\n",
      "----------------------------------------------------------------------------\n",
      "Classified 5000 samples in 2.339162826538086 seconds (2137.5168685456156 inferences / s)\n",
      "----------------------------------------------------------------------------\n",
      "0.0004678325653076171 s/inference \n"
     ]
    },
    {
     "name": "stdout",
     "output_type": "stream",
     "text": [
      "Send 5000 samples took 1.7316768169403076 seconds\n",
      "----------------------------------------------------------------------------\n",
      "Recieve 5000 samples took 0.5140769481658936 seconds\n",
      "----------------------------------------------------------------------------\n",
      "Classified 5000 samples in 2.334613084793091 seconds (2141.682505151869 inferences / s)\n",
      "----------------------------------------------------------------------------\n",
      "0.0004669226169586182 s/inference \n",
      "Send 5000 samples took 1.7288751602172852 seconds\n",
      "----------------------------------------------------------------------------\n",
      "Recieve 5000 samples took 0.517364501953125 seconds\n",
      "----------------------------------------------------------------------------\n",
      "Classified 5000 samples in 2.3326148986816406 seconds (2143.517132993503 inferences / s)\n",
      "----------------------------------------------------------------------------\n",
      "0.00046652297973632807 s/inference \n",
      "Send 5000 samples took 1.7336666584014893 seconds\n",
      "----------------------------------------------------------------------------\n",
      "Recieve 5000 samples took 0.5130407810211182 seconds\n",
      "----------------------------------------------------------------------------\n",
      "Classified 5000 samples in 2.3336164951324463 seconds (2142.597127861072 inferences / s)\n",
      "----------------------------------------------------------------------------\n",
      "0.0004667232990264892 s/inference \n",
      "Send 5000 samples took 1.723081350326538 seconds\n",
      "----------------------------------------------------------------------------\n",
      "Recieve 5000 samples took 0.518629789352417 seconds\n",
      "----------------------------------------------------------------------------\n",
      "Classified 5000 samples in 2.3294265270233154 seconds (2146.4510436348933 inferences / s)\n",
      "----------------------------------------------------------------------------\n",
      "0.00046588530540466307 s/inference \n",
      "Send 5000 samples took 1.7354910373687744 seconds\n",
      "----------------------------------------------------------------------------\n",
      "Recieve 5000 samples took 0.5156092643737793 seconds\n",
      "----------------------------------------------------------------------------\n",
      "Classified 5000 samples in 2.337881088256836 seconds (2138.688757574101 inferences / s)\n",
      "----------------------------------------------------------------------------\n",
      "0.0004675762176513672 s/inference \n",
      "Send 5000 samples took 1.7372522354125977 seconds\n",
      "----------------------------------------------------------------------------\n",
      "Recieve 5000 samples took 0.5108845233917236 seconds\n",
      "----------------------------------------------------------------------------\n",
      "Classified 5000 samples in 2.3349952697753906 seconds (2141.3319610197595 inferences / s)\n",
      "----------------------------------------------------------------------------\n",
      "0.00046699905395507815 s/inference \n",
      "Send 5000 samples took 1.728621482849121 seconds\n",
      "----------------------------------------------------------------------------\n",
      "Recieve 5000 samples took 1.534175157546997 seconds\n",
      "----------------------------------------------------------------------------\n",
      "Classified 5000 samples in 3.349536657333374 seconds (1492.743776681217 inferences / s)\n",
      "----------------------------------------------------------------------------\n",
      "0.0006699073314666748 s/inference \n",
      "Send 5000 samples took 1.7348401546478271 seconds\n",
      "----------------------------------------------------------------------------\n",
      "Recieve 5000 samples took 0.5086472034454346 seconds\n",
      "----------------------------------------------------------------------------\n",
      "Classified 5000 samples in 2.330479860305786 seconds (2145.4808879335014 inferences / s)\n",
      "----------------------------------------------------------------------------\n",
      "0.0004660959720611572 s/inference \n",
      "Send 5000 samples took 1.7295966148376465 seconds\n",
      "----------------------------------------------------------------------------\n",
      "Recieve 5000 samples took 0.5174272060394287 seconds\n",
      "----------------------------------------------------------------------------\n",
      "Classified 5000 samples in 2.3343923091888428 seconds (2141.885055189119 inferences / s)\n",
      "----------------------------------------------------------------------------\n",
      "0.00046687846183776855 s/inference \n",
      "Send 5000 samples took 1.7394111156463623 seconds\n",
      "----------------------------------------------------------------------------\n",
      "Recieve 5000 samples took 0.5089268684387207 seconds\n",
      "----------------------------------------------------------------------------\n",
      "Classified 5000 samples in 2.3361682891845703 seconds (2140.2567713755025 inferences / s)\n",
      "----------------------------------------------------------------------------\n",
      "0.0004672336578369141 s/inference \n",
      "Send 5000 samples took 1.731839656829834 seconds\n",
      "----------------------------------------------------------------------------\n",
      "Recieve 5000 samples took 0.5163438320159912 seconds\n",
      "----------------------------------------------------------------------------\n",
      "Classified 5000 samples in 2.3347902297973633 seconds (2141.5200116003357 inferences / s)\n",
      "----------------------------------------------------------------------------\n",
      "0.0004669580459594727 s/inference \n",
      "Send 5000 samples took 1.7407934665679932 seconds\n",
      "----------------------------------------------------------------------------\n",
      "Recieve 5000 samples took 0.5188090801239014 seconds\n",
      "----------------------------------------------------------------------------\n",
      "Classified 5000 samples in 2.345872163772583 seconds (2131.40344014275 inferences / s)\n",
      "----------------------------------------------------------------------------\n",
      "0.0004691744327545166 s/inference \n",
      "Send 5000 samples took 1.7262029647827148 seconds\n",
      "----------------------------------------------------------------------------\n",
      "Recieve 5000 samples took 0.5129306316375732 seconds\n",
      "----------------------------------------------------------------------------\n",
      "Classified 5000 samples in 2.3267877101898193 seconds (2148.8853401207366 inferences / s)\n",
      "----------------------------------------------------------------------------\n",
      "0.0004653575420379639 s/inference \n",
      "Send 5000 samples took 1.7257411479949951 seconds\n",
      "----------------------------------------------------------------------------\n",
      "Recieve 5000 samples took 0.5174498558044434 seconds\n",
      "----------------------------------------------------------------------------\n",
      "Classified 5000 samples in 2.3308608531951904 seconds (2145.1301964876625 inferences / s)\n",
      "----------------------------------------------------------------------------\n",
      "0.00046617217063903816 s/inference \n",
      "Send 5000 samples took 1.7337350845336914 seconds\n",
      "----------------------------------------------------------------------------\n",
      "Recieve 5000 samples took 0.511162519454956 seconds\n",
      "----------------------------------------------------------------------------\n",
      "Classified 5000 samples in 2.331814765930176 seconds (2144.2526537932217 inferences / s)\n",
      "----------------------------------------------------------------------------\n",
      "0.0004663629531860352 s/inference \n",
      "----------------------------------------------------------------------------\n",
      "Decode 166000 samples took 1.2611780166625977 seconds\n",
      "----------------------------------------------------------------------------\n",
      "Classified 166000 samples in 80.95138931274414 seconds (2050.6133546230158 inferences / s)\n",
      "----------------------------------------------------------------------------\n",
      "0.0004876589717635189 s/inference \n"
     ]
    }
   ],
   "source": [
    "X = np.load('./X_test.npy').astype(np.float32)\n",
    "\n",
    "Callback_N =5000\n",
    "\n",
    "y_enc = []\n",
    "y_temp= []\n",
    "y     = []\n",
    "times1 = 0\n",
    "timer1 = 0\n",
    "timea = time()\n",
    "X_enc = encode_whole_ds(X)\n",
    "time0 = time()\n",
    "t_enc = time() - timea\n",
    "print(\"Encode {} samples took {} seconds\".format(len(X), t_enc))\n",
    "print(\"----------------------------------------------------------------------------\")\n",
    "for i in range(int(X_enc.shape[0]/8)):\n",
    "    times0 = time()\n",
    "    for j in range(8):\n",
    "        in_mmio.write(4 * j, int(X_enc[i*8+j]))\n",
    "    times1 += (time() - times0)\n",
    "    timer0 = time()\n",
    "    for k in range(3):\n",
    "        y_temp.append(ou_mmio.read(4 * k))\n",
    "    y_enc.append(y_temp)\n",
    "    y_temp=[]\n",
    "    #y.append(get_output(ou_mmio))\n",
    "    timer1 += (time() - timer0)\n",
    "    if (i % Callback_N == 0) and i>=Callback_N :\n",
    "        time1 = time()\n",
    "        print_all_dt(time0, time1, times1, timer1,  Callback_N)\n",
    "        time0 = time()\n",
    "        times1 = 0\n",
    "        timer1 = 0\n",
    "        \n",
    "timeb = time()\n",
    "y = decode_whole_ds(np.asarray(y_enc))\n",
    "t_dec = time() - timeb\n",
    "print(\"----------------------------------------------------------------------------\")\n",
    "print(\"Decode {} samples took {} seconds\".format(len(X), t_dec))\n",
    "print(\"----------------------------------------------------------------------------\")\n",
    "timec = time()\n",
    "print_dt(timea, timec, len(X))\n",
    "np.save('y_pynq.npy', y)"
   ]
  },
  {
   "cell_type": "code",
   "execution_count": null,
   "metadata": {},
   "outputs": [],
   "source": []
  }
 ],
 "metadata": {
  "kernelspec": {
   "display_name": "Python 3",
   "language": "python",
   "name": "python3"
  },
  "language_info": {
   "codemirror_mode": {
    "name": "ipython",
    "version": 3
   },
   "file_extension": ".py",
   "mimetype": "text/x-python",
   "name": "python",
   "nbconvert_exporter": "python",
   "pygments_lexer": "ipython3",
   "version": "3.6.5"
  }
 },
 "nbformat": 4,
 "nbformat_minor": 2
}
